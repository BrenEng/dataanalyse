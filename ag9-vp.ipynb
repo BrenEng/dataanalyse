{
 "cells": [
  {
   "cell_type": "code",
   "execution_count": 10,
   "metadata": {},
   "outputs": [],
   "source": [
    "import numpy as np\n",
    "import pandas as pd\n",
    "\n",
    "\n",
    "df = pd.read_csv(\"eksporter/iwmac/ag9/370.001.csv\",low_memory=False)\n",
    "\n",
    "# print(df.head())\n",
    "# print(df.tail())\n"
   ]
  },
  {
   "cell_type": "code",
   "execution_count": 7,
   "metadata": {},
   "outputs": [
    {
     "name": "stdout",
     "output_type": "stream",
     "text": [
      "hello worldyy!testyy\n"
     ]
    }
   ],
   "source": [
    "print(\"hello worldyy!\"+msg)"
   ]
  }
 ],
 "metadata": {
  "kernelspec": {
   "display_name": "Python 3",
   "language": "python",
   "name": "python3"
  },
  "language_info": {
   "codemirror_mode": {
    "name": "ipython",
    "version": 3
   },
   "file_extension": ".py",
   "mimetype": "text/x-python",
   "name": "python",
   "nbconvert_exporter": "python",
   "pygments_lexer": "ipython3",
   "version": "3.10.9"
  },
  "orig_nbformat": 4,
  "vscode": {
   "interpreter": {
    "hash": "c682721adfa11319990d43f7b01a9baae3d58129637904b7757c8e3f564725e3"
   }
  }
 },
 "nbformat": 4,
 "nbformat_minor": 2
}
