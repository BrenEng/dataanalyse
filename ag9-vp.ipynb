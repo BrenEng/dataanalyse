{
 "cells": [
  {
   "cell_type": "code",
   "execution_count": 6,
   "metadata": {},
   "outputs": [
    {
     "name": "stdout",
     "output_type": "stream",
     "text": [
      "  8317, VP02, 370.001 Varmepumpe  IK001-Retur temp  \\\n",
      "0            2023-01-19 12:55:50              46.0   \n",
      "1            2023-01-19 16:18:10              45.0   \n",
      "2            2023-01-19 16:56:51              44.0   \n",
      "3            2023-01-19 17:00:36              43.0   \n",
      "4            2023-01-19 17:01:57              42.0   \n",
      "\n",
      "  8317, VP02, 370.001 Varmepumpe.1  IK001-Tur temp  \\\n",
      "0              2023-01-19 12:55:49            49.0   \n",
      "1              2023-01-19 13:13:56            48.0   \n",
      "2              2023-01-19 13:20:42            49.0   \n",
      "3              2023-01-19 13:26:27            48.0   \n",
      "4              2023-01-19 13:28:39            49.0   \n",
      "\n",
      "  8317, EV03, 310-320 Termiske målere Piigab Kjeller  \\\n",
      "0                                2023-01-01 00:01:10   \n",
      "1                                2023-01-01 00:04:28   \n",
      "2                                2023-01-01 00:08:18   \n",
      "3                                2023-01-01 00:22:53   \n",
      "4                                2023-01-01 00:26:50   \n",
      "\n",
      "   320.001-OE001-Hovedvarmekurs - Temp. Retur  \\\n",
      "0                                        36.6   \n",
      "1                                        36.8   \n",
      "2                                        36.7   \n",
      "3                                        36.6   \n",
      "4                                        36.7   \n",
      "\n",
      "  8317, EV03, 310-320 Termiske målere Piigab Kjeller.1  \\\n",
      "0                                2023-01-01 00:01:13     \n",
      "1                                2023-01-01 00:04:28     \n",
      "2                                2023-01-01 00:08:18     \n",
      "3                                2023-01-01 00:12:10     \n",
      "4                                2023-01-01 00:15:36     \n",
      "\n",
      "   320.001-OE001-Hovedvarmekurs - Temp. Tur 8317, ES01, 320 Energisentral  \\\n",
      "0                                      48.8           2023-01-01 00:00:13   \n",
      "1                                      48.3           2023-01-01 00:00:27   \n",
      "2                                      48.5           2023-01-01 00:00:40   \n",
      "3                                      48.2           2023-01-01 00:00:54   \n",
      "4                                      48.3           2023-01-01 00:01:08   \n",
      "\n",
      "   320.000 - SB502-FJERNVARME SHUNTVENTIL 8317, ES01, 320 Energisentral.1  \\\n",
      "0                                    81.2             2023-01-01 07:50:03   \n",
      "1                                    81.0             2023-01-01 07:50:17   \n",
      "2                                    80.8             2023-01-01 07:50:30   \n",
      "3                                    80.7             2023-01-01 07:50:44   \n",
      "4                                    80.6             2023-01-01 07:50:58   \n",
      "\n",
      "   320.000-SB501-FJERNVARME SHUNTVENTIL 8317, VP02, 370.001 Varmepumpe.2  \\\n",
      "0                                   0.2              2023-01-19 12:55:46   \n",
      "1                                   0.9              2023-01-19 12:58:30   \n",
      "2                                   1.7              2023-01-19 14:05:40   \n",
      "3                                   2.5              2023-01-19 14:13:06   \n",
      "4                                   3.5              2023-01-19 14:42:12   \n",
      "\n",
      "   IK001-Unit power run (0-100%) 8317, VP02, 370.001 Varmepumpe.3  \\\n",
      "0                          100.0              2023-01-19 12:55:53   \n",
      "1                           83.0              2023-01-19 12:57:36   \n",
      "2                           66.0              2023-01-19 12:58:36   \n",
      "3                           83.0              2023-01-19 12:59:37   \n",
      "4                          100.0              2023-01-19 13:05:11   \n",
      "\n",
      "   VP-Avgitt effekt nåtid 8317, VP02, 370.001 Varmepumpe.4  VP-Cop nåtid  \\\n",
      "0                    46.0              2023-01-19 12:55:52           3.0   \n",
      "1                    47.0              2023-01-19 15:43:34           2.0   \n",
      "2                    41.0              2023-01-19 15:44:35           3.0   \n",
      "3                    42.0              2023-01-19 16:57:34           5.0   \n",
      "4                    41.0              2023-01-19 16:58:36           0.0   \n",
      "\n",
      "  8317, E03, RE 432.001-10-Elmåler-VP Tak  kWh (+) tot.  \n",
      "0                     2023-01-01 00:18:03     1097608.0  \n",
      "1                     2023-01-01 01:08:49     1097609.0  \n",
      "2                     2023-01-01 01:58:18     1097610.0  \n",
      "3                     2023-01-01 02:49:05     1097611.0  \n",
      "4                     2023-01-01 03:38:30     1097612.0  \n"
     ]
    }
   ],
   "source": [
    "import numpy as np\n",
    "import pandas as pd\n",
    "\n",
    "\n",
    "df = pd.read_csv(\"eksporter/iwmac/ag9/370.001.csv\",low_memory=False)\n",
    "\n",
    "print(df.head())\n",
    "# print(df.tail())\n"
   ]
  },
  {
   "cell_type": "code",
   "execution_count": 7,
   "metadata": {},
   "outputs": [
    {
     "name": "stdout",
     "output_type": "stream",
     "text": [
      "hello worldyy!testyy\n"
     ]
    }
   ],
   "source": [
    "print(\"hello worldyy!\"+msg)"
   ]
  }
 ],
 "metadata": {
  "kernelspec": {
   "display_name": "Python 3",
   "language": "python",
   "name": "python3"
  },
  "language_info": {
   "codemirror_mode": {
    "name": "ipython",
    "version": 3
   },
   "file_extension": ".py",
   "mimetype": "text/x-python",
   "name": "python",
   "nbconvert_exporter": "python",
   "pygments_lexer": "ipython3",
   "version": "3.10.9"
  },
  "orig_nbformat": 4,
  "vscode": {
   "interpreter": {
    "hash": "c682721adfa11319990d43f7b01a9baae3d58129637904b7757c8e3f564725e3"
   }
  }
 },
 "nbformat": 4,
 "nbformat_minor": 2
}
